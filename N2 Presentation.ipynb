{
 "cells": [
  {
   "cell_type": "markdown",
   "metadata": {},
   "source": [
    "## N2 Diatom presentation"
   ]
  },
  {
   "cell_type": "code",
   "execution_count": 2,
   "metadata": {},
   "outputs": [],
   "source": [
    "import numpy\n",
    "import psi4\n",
    "from matplotlib import pyplot as plt\n",
    "from scipy.interpolate import InterpolatedUnivariateSpline"
   ]
  },
  {
   "cell_type": "code",
   "execution_count": 3,
   "metadata": {},
   "outputs": [],
   "source": [
    "mol_tmpl = \"\"\"N\n",
    "N 1 **R**\"\"\""
   ]
  },
  {
   "cell_type": "code",
   "execution_count": null,
   "metadata": {},
   "outputs": [],
   "source": [
    "molecules = []\n",
    "r_array= [.2, .25, .3, .35, .4, .45, .5, .55, .57, .6, .65, .67, .7, .75, .77, .8, .85, .87, .9, .95, .97, 1,1.05, 1.1, 1.15, 1.17, 1.2, 1.25, 1.27, 1.3, 1.5, 1.7, 2, 2.1, 2.2, 2.25, 2.5, 2.55, 2.65, 2.75, 2.85, 2.95, 3., 3.05, 3.15, 3.25, 3.35, 3.45, 3.55, 3.65, 3.75,3.85, 3.95, 4, 4.05, 4.15, 8 ]\n",
    "print(len(r_array))\n",
    "RHF_E_array=[]\n",
    "MP2_E_array=[]\n",
    "CCSD_E_array=[]\n",
    "\n",
    "for r in r_array:\n",
    "    molecule = psi4.geometry(mol_tmpl.replace(\"**R**\", str(r)))\n",
    "    molecules.append(molecule)\n",
    "    \n",
    "for mol in molecules:\n",
    "    energy = psi4.energy(\"SCF/cc-pVDZ\", molecule=mol)\n",
    "    RHF_E_array.append(energy)\n",
    "    energy = psi4.energy(\"MP2/cc-pVTZ\", molecule=mol)\n",
    "    MP2_E_array.append(energy)\n",
    "   ## energy = psi4.energy(\"CCSD/cc-pVTZ\",molecule=mol)\n",
    "   ## CCSD_E_array.append(energy)\n",
    "\n"
   ]
  },
  {
   "cell_type": "code",
   "execution_count": null,
   "metadata": {},
   "outputs": [],
   "source": [
    "plt.plot(r_array, RHF_E_array, '--m*', label='RHF')\n",
    "plt.plot(r_array, MP2_E_array, '--g*', label='MP2')\n",
    "##plt.plot(r_array, CCSD_E_array, '--b*', label='CCSD')\n",
    "plt.xlabel('r (angstrom)')\n",
    "plt.ylabel('Energy (Hartree)')\n",
    "plt.legend()\n",
    "plt.show()\n"
   ]
  },
  {
   "cell_type": "code",
   "execution_count": null,
   "metadata": {},
   "outputs": [],
   "source": []
  }
 ],
 "metadata": {
  "celltoolbar": "Raw Cell Format",
  "kernelspec": {
   "display_name": "Python 3",
   "language": "python",
   "name": "python3"
  },
  "language_info": {
   "codemirror_mode": {
    "name": "ipython",
    "version": 3
   },
   "file_extension": ".py",
   "mimetype": "text/x-python",
   "name": "python",
   "nbconvert_exporter": "python",
   "pygments_lexer": "ipython3",
   "version": "3.7.3"
  }
 },
 "nbformat": 4,
 "nbformat_minor": 2
}
